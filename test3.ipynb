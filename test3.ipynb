{
 "cells": [
  {
   "cell_type": "markdown",
   "id": "eec986ce-dade-4f5d-868c-9b0dd765cdfe",
   "metadata": {
    "editable": true,
    "slideshow": {
     "slide_type": ""
    },
    "tags": []
   },
   "source": [
    "### James Butcher - 5-18-25"
   ]
  },
  {
   "cell_type": "markdown",
   "id": "1133b347-5f11-4be6-b125-26880bcec7a6",
   "metadata": {},
   "source": [
    "A basic test setup for LangGraph using Python and Ollama running locally.\n",
    "\n",
    "From tutorial video: https://www.youtube.com/watch?v=1w5cCXlh7JQ&t=1178s"
   ]
  },
  {
   "cell_type": "markdown",
   "id": "d088343c-4208-4472-914d-2d62be591589",
   "metadata": {},
   "source": [
    "## Basic imports"
   ]
  },
  {
   "cell_type": "code",
   "execution_count": 1,
   "id": "2fa01446-a367-47ab-bb08-35ad190f6f81",
   "metadata": {},
   "outputs": [],
   "source": [
    "import os\n",
    "from datetime import datetime"
   ]
  },
  {
   "cell_type": "markdown",
   "id": "86fd918f-1e6d-41e8-adba-a3bb41b8e688",
   "metadata": {},
   "source": [
    "## LLM"
   ]
  },
  {
   "cell_type": "code",
   "execution_count": 2,
   "id": "8ca7c202-b907-4b5b-a113-eded8c675399",
   "metadata": {},
   "outputs": [],
   "source": [
    "from langchain_ollama import ChatOllama\n",
    "\n",
    "model_path = os.path.expanduser(\n",
    "    \"~/.cache/lm-studio/models/lmstudio-community/\"\n",
    "    \"Meta-Llama-3-8B-Instruct-GGUF/Meta-Llama-3-8B-Instruct-Q4_K_M.gguf\"\n",
    ")\n",
    "\n",
    "\"\"\" API Docs: \n",
    "https://python.langchain.com/api_reference/ollama/chat_models/langchain_ollama.chat_models.ChatOllama.html\n",
    "\"\"\"\n",
    "llm = ChatOllama(\n",
    "    model=\"llama3.2\",\n",
    "    model_path=model_path,\n",
    "    chat_format=\"chatml\", # Works with most models\n",
    "    temperature=1.0,  # Controlds the randomness/creativity [0.0 - 2.0]\n",
    "    num_predict=64,  # Max number of tokens\n",
    "    #n_ctx=2048, # Context length - default: 2048 (others are 512, 1024, 4096)\n",
    "    #n_threads=4, # Number of threads to use for inference (default is 4)\n",
    "    #num_predict=128  # Maximum number of tokens to predict when generating text. (Default: 128, -1 = infinite generation, -2 = fill context)\n",
    ")"
   ]
  },
  {
   "cell_type": "markdown",
   "id": "59ca056c-42df-44e4-83e4-48413a5f9cd6",
   "metadata": {},
   "source": [
    "## Types and Fields imports"
   ]
  },
  {
   "cell_type": "code",
   "execution_count": 3,
   "id": "f27ea774-1658-4fca-bb02-c1771fd8bf2f",
   "metadata": {},
   "outputs": [],
   "source": [
    "from typing import Annotated, Literal\n",
    "from pydantic import BaseModel, Field\n",
    "from typing_extensions import TypedDict"
   ]
  },
  {
   "cell_type": "markdown",
   "id": "004ca3ec-75f7-4c84-b8ea-f3e6f714d9aa",
   "metadata": {},
   "source": [
    "## LangGraph Imports"
   ]
  },
  {
   "cell_type": "code",
   "execution_count": 4,
   "id": "060d0254-d58d-4f53-9b8a-e4f29f7f7564",
   "metadata": {},
   "outputs": [],
   "source": [
    "from langgraph.graph import StateGraph, START, END  # For building the graph\n",
    "from langgraph.graph.message import add_messages    # For defining states"
   ]
  },
  {
   "cell_type": "markdown",
   "id": "4954c74c-8fe8-4f43-a9af-401ae17ebc36",
   "metadata": {},
   "source": [
    "## Define Special Models\n",
    "\n",
    "For special LLM nodes that do tasks like classification, tool calling, etc."
   ]
  },
  {
   "cell_type": "code",
   "execution_count": 5,
   "id": "bb0af585-a19a-4429-8e73-8b56ff7e60f7",
   "metadata": {},
   "outputs": [],
   "source": [
    "class MessageClassifier(BaseModel):\n",
    "    message_type: Literal[\"emotional\", \"logical\"] = Field(\n",
    "        ..., \n",
    "        description=\"Classify whether the message requires an\" \\\n",
    "        \"emotional or a logical response.\"\n",
    "    )"
   ]
  },
  {
   "cell_type": "markdown",
   "id": "ab3d7e59-7e6a-4933-9b32-ac62e661a19f",
   "metadata": {},
   "source": [
    "## Define States\n",
    "\n",
    "Define the structure of the \"States\" to be used by the graph\n",
    "The below definition forces states to be of this form:\n",
    "```\n",
    "{ \n",
    "    \"messages\": [ <messages list> ]\n",
    "    \"message_type\": str (\"logical\" or \"therapist\")\n",
    "}\n",
    "```"
   ]
  },
  {
   "cell_type": "code",
   "execution_count": 6,
   "id": "29c77e5d-5a87-45fb-8f86-3d7885c4d66b",
   "metadata": {},
   "outputs": [],
   "source": [
    "class State(TypedDict):\n",
    "    messages: Annotated[list, add_messages]\n",
    "    message_type: str | None\n",
    "    workspace: str | None\n",
    "    thoughts: str | None"
   ]
  },
  {
   "cell_type": "markdown",
   "id": "6b546518-ba74-4f59-9ab5-06fce74d4735",
   "metadata": {},
   "source": [
    "## Define Nodes (Actions)\n",
    "\n",
    "Define a node by creating a function that takes a state and returns a modified state."
   ]
  },
  {
   "cell_type": "code",
   "execution_count": 7,
   "id": "15404c4b-fbb7-4c64-a9a4-b4f2253d000d",
   "metadata": {},
   "outputs": [],
   "source": [
    "def chatbot(state: State):\n",
    "    # Take all the messages from the previous state and pass it to the LLM.\n",
    "    # Then set the new set of messages to the response.\n",
    "    return {\"messages\": [llm.invoke(state[\"messages\"])]}"
   ]
  },
  {
   "cell_type": "code",
   "execution_count": 8,
   "id": "46d76351-08ff-4413-ba6b-1471144ef3e4",
   "metadata": {},
   "outputs": [],
   "source": [
    "def classify_message(state: State):\n",
    "    last_message = state[\"messages\"][-1]\n",
    "\n",
    "    # Create a version of the llm that follows the structured output defined by MessageClassifier.\n",
    "    classifier_llm = llm.with_structured_output(MessageClassifier)\n",
    "\n",
    "    result = classifier_llm.invoke([\n",
    "        # System messages are instructions for the LLM\n",
    "        {\n",
    "            \"role\": \"system\", \n",
    "            \"content\": \"\"\"\n",
    "                Classify the user message as either:\n",
    "                    'emotional': if it asks for emotional support or deals\n",
    "                    with feelings, emotions, etc.\n",
    "                    'logical': if it asks for facts, information, logical\n",
    "                    analysis, or practical solutions.\n",
    "            \"\"\"\n",
    "        },\n",
    "        {\n",
    "            \"role\": \"user\",\n",
    "            \"content\": last_message.content\n",
    "        }\n",
    "    ])\n",
    "\n",
    "    # Returns a State object with modified 'message_type' field defined\n",
    "    # above in State class. This message type is then passed to the\n",
    "    # router that makes a decision based on that message type.\n",
    "    return {\"message_type\": result.message_type} "
   ]
  },
  {
   "cell_type": "code",
   "execution_count": 9,
   "id": "b6ca9b97-3576-4e16-83e3-e56a0a5c3c1f",
   "metadata": {},
   "outputs": [],
   "source": [
    "def router(state: State):\n",
    "    # Obtain the message type of the given state. Use 'logical' as a\n",
    "    # fallback in case the message type is missing or invalid.\n",
    "    message_type = state.get(\"message_type\", \"logical\")\n",
    "\n",
    "    if message_type == 'emotional':\n",
    "        print(\"<<< therapist >>>\")\n",
    "        return {\"next\": \"therapist\"}\n",
    "    \n",
    "    print(\"<<< logical >>>\")\n",
    "    return {\"next\": \"logical\"}"
   ]
  },
  {
   "cell_type": "code",
   "execution_count": 10,
   "id": "51bf46c0-8575-4024-84d0-00cdecfce66b",
   "metadata": {},
   "outputs": [],
   "source": [
    "def make_change(state: State):\n",
    "    last_message = state[\"messages\"][-1]\n",
    "\n",
    "    # Give the user's last message to the LLM with these instructions\n",
    "    messages = [\n",
    "        {\n",
    "            \"role\": \"system\",\n",
    "            \"content\": \"\"\"\n",
    "                You are an artist with words. Change, add, or remove one or more\n",
    "                of the words in user's sentence to make something truly beautiful.\n",
    "                Return only the resulting sentence after the change.\n",
    "            \"\"\"\n",
    "        },\n",
    "        {\n",
    "            \"role\": \"user\",\n",
    "            \"content\": last_message.content\n",
    "        }\n",
    "    ]\n",
    "    reply = llm.invoke(messages)\n",
    "\n",
    "    # Return the agent's reply\n",
    "    return {\"messages\": [\n",
    "        {\n",
    "            \"role\": \"assistant\",\n",
    "            \"content\": reply.content\n",
    "        }\n",
    "    ]}"
   ]
  },
  {
   "cell_type": "code",
   "execution_count": 11,
   "id": "e3fbd399-3590-43e7-84cf-c9a81ae73257",
   "metadata": {},
   "outputs": [],
   "source": [
    "def reflect(state: State):\n",
    "    last_message = state[\"messages\"][-1]\n",
    "\n",
    "    # Give the user's last message to the LLM with these instructions\n",
    "    messages = [\n",
    "        {\n",
    "            \"role\": \"system\",\n",
    "            \"content\": \"\"\"\n",
    "                You are a purely logical assistant. Focus only on facts and information.\n",
    "                Provide clear, concise answers based on logic and evidence.\n",
    "                Do not address emotions or provide emotional support.\n",
    "                Be direct and straightforward in your responses.\n",
    "                Keep the message to 50 tokens or less.\n",
    "            \"\"\"\n",
    "        },\n",
    "        {\n",
    "            \"role\": \"user\",\n",
    "            \"content\": last_message.content\n",
    "        }\n",
    "    ]\n",
    "    reply = llm.invoke(messages)\n",
    "\n",
    "    # Return the agent's reply\n",
    "    return {\"messages\": [\n",
    "        {\n",
    "            \"role\": \"assistant\",\n",
    "            \"content\": reply.content\n",
    "        }\n",
    "    ]}"
   ]
  },
  {
   "cell_type": "markdown",
   "id": "cfbccc06-77a5-435e-b7ae-affbafa90d2f",
   "metadata": {},
   "source": [
    "## Build the Graph"
   ]
  },
  {
   "cell_type": "code",
   "execution_count": 12,
   "id": "44100a97-84b3-4c73-bcde-da95279b4017",
   "metadata": {},
   "outputs": [],
   "source": [
    "graph_builder = StateGraph(State)"
   ]
  },
  {
   "cell_type": "markdown",
   "id": "43c68e83-6710-4306-a50d-27345d697eb0",
   "metadata": {},
   "source": [
    "#### Add all the nodes defined above"
   ]
  },
  {
   "cell_type": "code",
   "execution_count": 13,
   "id": "04fb6b4e-825b-47d6-af93-5014c7c8a90c",
   "metadata": {},
   "outputs": [
    {
     "data": {
      "text/plain": [
       "<langgraph.graph.state.StateGraph at 0x2e4ade88d70>"
      ]
     },
     "execution_count": 13,
     "metadata": {},
     "output_type": "execute_result"
    }
   ],
   "source": [
    "graph_builder.add_node(\"classifier\", classify_message)\n",
    "graph_builder.add_node(\"router\", router)\n",
    "graph_builder.add_node(\"therapist\", therapist_agent)\n",
    "graph_builder.add_node(\"invariant\", logical_agent)"
   ]
  },
  {
   "cell_type": "markdown",
   "id": "34b14056-cb0e-46cb-acbf-91b5eaea43db",
   "metadata": {},
   "source": [
    "#### Connect all the nodes\n",
    "- All graphs require a start and end node."
   ]
  },
  {
   "cell_type": "code",
   "execution_count": 14,
   "id": "645ca8f4-f2ab-4a77-b785-2fa3a7292fa0",
   "metadata": {},
   "outputs": [
    {
     "data": {
      "text/plain": [
       "<langgraph.graph.state.StateGraph at 0x2e4ade88d70>"
      ]
     },
     "execution_count": 14,
     "metadata": {},
     "output_type": "execute_result"
    }
   ],
   "source": [
    "graph_builder.add_edge(START, \"classifier\")\n",
    "graph_builder.add_edge(\"classifier\", \"router\")\n",
    "graph_builder.add_conditional_edges(\n",
    "    \"router\",\n",
    "    lambda state: state.get(\"next\"), {\n",
    "        \"therapist\": \"therapist\",\n",
    "        \"logical\": \"invariant\" \n",
    "    }\n",
    ")\n",
    "graph_builder.add_edge(\"therapist\", END)\n",
    "graph_builder.add_edge(\"invariant\", END)"
   ]
  },
  {
   "cell_type": "markdown",
   "id": "7d87cbb9-81b8-4930-a27a-83bcdbb0f9ba",
   "metadata": {},
   "source": [
    "#### Compile the graph"
   ]
  },
  {
   "cell_type": "code",
   "execution_count": 15,
   "id": "2ff21584-c4c1-49b8-8def-3344dbb3c01c",
   "metadata": {},
   "outputs": [],
   "source": [
    "graph = graph_builder.compile()"
   ]
  },
  {
   "cell_type": "markdown",
   "id": "d2eff574-15e0-423c-b148-6750edb5b02f",
   "metadata": {},
   "source": [
    "#### Display the graph\n",
    "\n",
    "Only works in Jupyter Notebook"
   ]
  },
  {
   "cell_type": "code",
   "execution_count": 16,
   "id": "af30d31d-ad62-42dc-811e-4f5debf3e448",
   "metadata": {},
   "outputs": [],
   "source": [
    "from IPython.display import Image, display"
   ]
  },
  {
   "cell_type": "code",
   "execution_count": 17,
   "id": "00055e81-d5aa-4b6a-ba3b-7d1f8773955b",
   "metadata": {},
   "outputs": [
    {
     "data": {
      "image/png": "[encoded data removed]",
      "text/plain": [
       "<IPython.core.display.Image object>"
      ]
     },
     "metadata": {},
     "output_type": "display_data"
    }
   ],
   "source": [
    "try:\n",
    "    display(Image(graph.get_graph().draw_mermaid_png()))\n",
    "except:\n",
    "    # This reqires some additional dependencies and is optional\n",
    "    pass"
   ]
  },
  {
   "cell_type": "markdown",
   "id": "0a352127-805f-4783-8845-eb8a7d8d3030",
   "metadata": {},
   "source": [
    "# Usage"
   ]
  },
  {
   "cell_type": "markdown",
   "id": "7ccbd6ce-d018-4725-8697-c2097fc3b2fc",
   "metadata": {},
   "source": [
    "#### Define functions for interacting with graph"
   ]
  },
  {
   "cell_type": "code",
   "execution_count": 18,
   "id": "5f43d57b-4fe4-4fde-9151-c1b4673c07bf",
   "metadata": {},
   "outputs": [],
   "source": [
    "def create_chat_log():\n",
    "    chat_filename = \"output_\" + datetime.now().strftime(\"%Y-%m-%d_(%H%M)\") + \".txt\"\n",
    "    chat_filepath = \"ChatLogs/\" + chat_filename\n",
    "    with open(chat_filepath, \"w\") as out:\n",
    "        out.write(str(datetime.now()) + \"\\n\" + '-'*50 + \"\\n\\n\")\n",
    "    return chat_filepath"
   ]
  },
  {
   "cell_type": "code",
   "execution_count": 19,
   "id": "c1e9e69d-8959-4003-91c2-f1d461caff79",
   "metadata": {},
   "outputs": [],
   "source": [
    "def get_initial_state():\n",
    "    return { \n",
    "        \"messages\": [],\n",
    "        \"message_type\": None\n",
    "    }"
   ]
  },
  {
   "cell_type": "code",
   "execution_count": 20,
   "id": "97078214-99bc-49cc-90e6-a8e6c9826b4b",
   "metadata": {},
   "outputs": [],
   "source": [
    "def write_to_log(path: str, message: str):\n",
    "    with open(path, \"a\") as out:\n",
    "        out.write(message + \"\\n\\n\")"
   ]
  },
  {
   "cell_type": "code",
   "execution_count": 21,
   "id": "b810b23e-0449-48f9-92eb-0ed48bf27ffc",
   "metadata": {},
   "outputs": [],
   "source": [
    "def run_graph(state: State, chat_log_path: str):\n",
    "\n",
    "    user_input = input(\"Message: \")\n",
    "    \n",
    "    write_to_log(chat_log_path, f\"User: {user_input}\")\n",
    "\n",
    "    # Append user input to the messages stored in state\n",
    "    state[\"messages\"] = state.get(\"messages\", []) + [\n",
    "        {\"role\": \"user\", \"content\": user_input}\n",
    "    ]\n",
    "\n",
    "    # Invoke the LLM on the state containing the new user input\n",
    "    state = graph.invoke(state)\n",
    "\n",
    "    # Display the LLM's response and write to log\n",
    "    if state.get(\"messages\") and len(state[\"messages\"]) > 0:\n",
    "        last_message = state[\"messages\"][-1]\n",
    "        print(f\"Assistant: {last_message.content}\")\n",
    "        write_to_log(chat_log_path, \"Assistant: \" + last_message.content + \"\\n\\n\" + '-'*50)\n"
   ]
  },
  {
   "cell_type": "markdown",
   "id": "7e94e7d7-9658-4606-8031-ec03790b9e40",
   "metadata": {},
   "source": [
    "#### Run the graph"
   ]
  },
  {
   "cell_type": "code",
   "execution_count": 22,
   "id": "d84649e7-672e-479c-8d60-2a23e9ee7ca2",
   "metadata": {},
   "outputs": [],
   "source": [
    "log = create_chat_log()"
   ]
  },
  {
   "cell_type": "code",
   "execution_count": 23,
   "id": "f93027e4-380f-4393-81b8-a04f263cac4b",
   "metadata": {},
   "outputs": [],
   "source": [
    "state = get_initial_state()"
   ]
  },
  {
   "cell_type": "code",
   "execution_count": 24,
   "id": "21dbcc73-1258-4f21-82ff-bad7edfe1ee0",
   "metadata": {},
   "outputs": [
    {
     "name": "stdin",
     "output_type": "stream",
     "text": [
      "Message:  How many seconds are in one hour?\n"
     ]
    },
    {
     "name": "stdout",
     "output_type": "stream",
     "text": [
      "<<< logical >>>\n",
      "Assistant: There are 3600 seconds in one hour, as there are 60 minutes in an hour and 60 seconds in a minute.\n"
     ]
    }
   ],
   "source": [
    "run_graph(state, log)"
   ]
  },
  {
   "cell_type": "code",
   "execution_count": null,
   "id": "e6ad2eb7-05a1-4747-98c2-2d2308900110",
   "metadata": {},
   "outputs": [],
   "source": []
  },
  {
   "cell_type": "code",
   "execution_count": 25,
   "id": "52492e91-9ab2-4f99-bace-1367596bfa73",
   "metadata": {},
   "outputs": [],
   "source": [
    "# def run_graph():\n",
    "\n",
    "#     # Set initial state\n",
    "#     state = { \n",
    "#         \"messages\": [],\n",
    "#         \"message_type\": None\n",
    "#     }\n",
    "\n",
    "#     # Create an output log file\n",
    "#     from datetime import datetime\n",
    "#     output_filename = \"output_\" + datetime.now().strftime(\"%Y-%m-%d_%H:%M\") + \".txt\"\n",
    "#     with open(output_filename, \"w\") as out:\n",
    "#             out.write(str(datetime.now()) + \"\\n\" + '-'*50)\n",
    "\n",
    "#     while True:\n",
    "\n",
    "#         # Get user input\n",
    "#         user_input = input(\"Message: \")\n",
    "#         if user_input.lower() in [\"q\", \"quit\", \"bye\", \"exit\"]:\n",
    "#             print(\"Bye\")\n",
    "#             break\n",
    "\n",
    "#         # Write the user input to the log\n",
    "#         with open(output_filename, \"a\") as out:\n",
    "#             out.write(f\"User: {user_input}\\n\\n\")\n",
    "\n",
    "#         # Append user input to the messages stored in stateA\n",
    "#         state[\"messages\"] = state.get(\"messages\", []) + [\n",
    "#             {\"role\": \"user\", \"content\": user_input}\n",
    "#         ]\n",
    "\n",
    "#         # Invoke the LLM on the state containing the new user input\n",
    "#         state = graph.invoke(state)\n",
    "\n",
    "#         # Display the LLM's response and write to log\n",
    "#         if state.get(\"messages\") and len(state[\"messages\"]) > 0:\n",
    "#             last_message = state[\"messages\"][-1]\n",
    "#             print(f\"Assistant: {last_message.content}\")\n",
    "#             with open(output_filename, \"a\") as out:\n",
    "#                 out.write(f\"Assistant: {last_message.content}\\n\\n\" + '-'*50 + \"\\n\")"
   ]
  },
  {
   "cell_type": "code",
   "execution_count": 26,
   "id": "829a2d12-fa76-4322-a5ea-08133cf979a3",
   "metadata": {},
   "outputs": [
    {
     "ename": "TypeError",
     "evalue": "run_graph() missing 2 required positional arguments: 'state' and 'chat_log_path'",
     "output_type": "error",
     "traceback": [
      "\u001b[31m---------------------------------------------------------------------------\u001b[39m",
      "\u001b[31mTypeError\u001b[39m                                 Traceback (most recent call last)",
      "\u001b[36mCell\u001b[39m\u001b[36m \u001b[39m\u001b[32mIn[26]\u001b[39m\u001b[32m, line 1\u001b[39m\n\u001b[32m----> \u001b[39m\u001b[32m1\u001b[39m \u001b[43mrun_graph\u001b[49m\u001b[43m(\u001b[49m\u001b[43m)\u001b[49m\n",
      "\u001b[31mTypeError\u001b[39m: run_graph() missing 2 required positional arguments: 'state' and 'chat_log_path'"
     ]
    }
   ],
   "source": [
    "run_graph()"
   ]
  },
  {
   "cell_type": "code",
   "execution_count": null,
   "id": "cce6334f-1a7d-43d9-ab8e-79fdc072df80",
   "metadata": {},
   "outputs": [],
   "source": []
  }
 ],
 "metadata": {
  "kernelspec": {
   "display_name": "Python 3 (ipykernel)",
   "language": "python",
   "name": "python3"
  },
  "language_info": {
   "codemirror_mode": {
    "name": "ipython",
    "version": 3
   },
   "file_extension": ".py",
   "mimetype": "text/x-python",
   "name": "python",
   "nbconvert_exporter": "python",
   "pygments_lexer": "ipython3",
   "version": "3.12.1"
  }
 },
 "nbformat": 4,
 "nbformat_minor": 5
}
